{
 "cells": [
  {
   "cell_type": "code",
   "execution_count": 59,
   "metadata": {
    "collapsed": true
   },
   "outputs": [],
   "source": [
    "import numpy as np\n",
    "import pandas as pd\n",
    "import matplotlib as mpl\n",
    "import matplotlib.pyplot as plt\n",
    "import seaborn as sns"
   ]
  },
  {
   "cell_type": "code",
   "execution_count": 60,
   "metadata": {
    "collapsed": false
   },
   "outputs": [],
   "source": [
    "grade_data = pd.read_csv('grade.csv', encoding = \"big5\")"
   ]
  },
  {
   "cell_type": "code",
   "execution_count": 61,
   "metadata": {
    "collapsed": false
   },
   "outputs": [
    {
     "data": {
      "text/html": [
       "<div>\n",
       "<table border=\"1\" class=\"dataframe\">\n",
       "  <thead>\n",
       "    <tr style=\"text-align: right;\">\n",
       "      <th></th>\n",
       "      <th>筆</th>\n",
       "      <th>學期</th>\n",
       "      <th>課號</th>\n",
       "      <th>開課單位</th>\n",
       "      <th>課程名稱</th>\n",
       "      <th>選別</th>\n",
       "      <th>學分</th>\n",
       "      <th>百分成績</th>\n",
       "      <th>等級成績</th>\n",
       "      <th>評分方式</th>\n",
       "      <th>成績狀態</th>\n",
       "      <th>任課老師</th>\n",
       "      <th>類別</th>\n",
       "    </tr>\n",
       "  </thead>\n",
       "  <tbody>\n",
       "    <tr>\n",
       "      <th>0</th>\n",
       "      <td>1</td>\n",
       "      <td>1031</td>\n",
       "      <td>416</td>\n",
       "      <td>微積分小組</td>\n",
       "      <td>微積分Ａ（一）</td>\n",
       "      <td>必修</td>\n",
       "      <td>4</td>\n",
       "      <td>88</td>\n",
       "      <td>A</td>\n",
       "      <td>百分法</td>\n",
       "      <td>已送註冊組</td>\n",
       "      <td>余啟哲</td>\n",
       "      <td>基礎</td>\n",
       "    </tr>\n",
       "    <tr>\n",
       "      <th>1</th>\n",
       "      <td>3</td>\n",
       "      <td>1031</td>\n",
       "      <td>1014</td>\n",
       "      <td>電工系</td>\n",
       "      <td>物理（一）</td>\n",
       "      <td>必修</td>\n",
       "      <td>3</td>\n",
       "      <td>92</td>\n",
       "      <td>A+</td>\n",
       "      <td>百分法</td>\n",
       "      <td>已送註冊組</td>\n",
       "      <td>林炯源</td>\n",
       "      <td>基礎</td>\n",
       "    </tr>\n",
       "    <tr>\n",
       "      <th>2</th>\n",
       "      <td>4</td>\n",
       "      <td>1031</td>\n",
       "      <td>1015</td>\n",
       "      <td>電工系</td>\n",
       "      <td>物理實驗（一）</td>\n",
       "      <td>必修</td>\n",
       "      <td>1</td>\n",
       "      <td>84</td>\n",
       "      <td>A-</td>\n",
       "      <td>百分法</td>\n",
       "      <td>已送註冊組</td>\n",
       "      <td>物理實驗助教</td>\n",
       "      <td>基礎</td>\n",
       "    </tr>\n",
       "    <tr>\n",
       "      <th>3</th>\n",
       "      <td>5</td>\n",
       "      <td>1031</td>\n",
       "      <td>1017</td>\n",
       "      <td>電工系</td>\n",
       "      <td>計算機概論與程式設計</td>\n",
       "      <td>必修</td>\n",
       "      <td>3</td>\n",
       "      <td>82</td>\n",
       "      <td>A-</td>\n",
       "      <td>百分法</td>\n",
       "      <td>已送註冊組</td>\n",
       "      <td>黃俊達</td>\n",
       "      <td>程式</td>\n",
       "    </tr>\n",
       "    <tr>\n",
       "      <th>4</th>\n",
       "      <td>6</td>\n",
       "      <td>1031</td>\n",
       "      <td>1018</td>\n",
       "      <td>電工系</td>\n",
       "      <td>化學(一)</td>\n",
       "      <td>選修</td>\n",
       "      <td>3</td>\n",
       "      <td>88</td>\n",
       "      <td>A</td>\n",
       "      <td>百分法</td>\n",
       "      <td>已送註冊組</td>\n",
       "      <td>張國明</td>\n",
       "      <td>基礎</td>\n",
       "    </tr>\n",
       "  </tbody>\n",
       "</table>\n",
       "</div>"
      ],
      "text/plain": [
       "   筆    學期    課號   開課單位        課程名稱  選別  學分  百分成績 等級成績 評分方式   成績狀態    任課老師  類別\n",
       "0  1  1031   416  微積分小組     微積分Ａ（一）  必修   4    88    A  百分法  已送註冊組     余啟哲  基礎\n",
       "1  3  1031  1014    電工系       物理（一）  必修   3    92   A+  百分法  已送註冊組     林炯源  基礎\n",
       "2  4  1031  1015    電工系     物理實驗（一）  必修   1    84   A-  百分法  已送註冊組  物理實驗助教  基礎\n",
       "3  5  1031  1017    電工系  計算機概論與程式設計  必修   3    82   A-  百分法  已送註冊組     黃俊達  程式\n",
       "4  6  1031  1018    電工系       化學(一)  選修   3    88    A  百分法  已送註冊組     張國明  基礎"
      ]
     },
     "execution_count": 61,
     "metadata": {},
     "output_type": "execute_result"
    }
   ],
   "source": [
    "grade_data.head()"
   ]
  },
  {
   "cell_type": "code",
   "execution_count": 71,
   "metadata": {
    "collapsed": false
   },
   "outputs": [
    {
     "data": {
      "image/png": "[encoded data removed]",
      "text/plain": [
       "<matplotlib.figure.Figure at 0x1eef6d83668>"
      ]
     },
     "metadata": {},
     "output_type": "display_data"
    }
   ],
   "source": [
    "sns.set(font='Arial Unicode MS',font_scale=1.8)\n",
    "bar_grade = sns.barplot(x=\"類別\", y=\"百分成績\", data=grade_data)"
   ]
  },
  {
   "cell_type": "code",
   "execution_count": 72,
   "metadata": {
    "collapsed": false
   },
   "outputs": [],
   "source": [
    "bar_grade.figure.savefig('output.png')"
   ]
  },
  {
   "cell_type": "code",
   "execution_count": null,
   "metadata": {
    "collapsed": true
   },
   "outputs": [],
   "source": [
    ""
   ]
  }
 ],
 "metadata": {
  "kernelspec": {
   "display_name": "Python 3",
   "language": "python",
   "name": "python3"
  },
  "language_info": {
   "codemirror_mode": {
    "name": "ipython",
    "version": 3.0
   },
   "file_extension": ".py",
   "mimetype": "text/x-python",
   "name": "python",
   "nbconvert_exporter": "python",
   "pygments_lexer": "ipython3",
   "version": "3.6.0"
  }
 },
 "nbformat": 4,
 "nbformat_minor": 0
}